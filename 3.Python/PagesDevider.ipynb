{
 "cells": [
  {
   "cell_type": "code",
   "execution_count": 1,
   "metadata": {},
   "outputs": [
    {
     "ename": "ModuleNotFoundError",
     "evalue": "No module named 'cv2'",
     "output_type": "error",
     "traceback": [
      "\u001b[0;31m---------------------------------------------------------------------------\u001b[0m",
      "\u001b[0;31mModuleNotFoundError\u001b[0m                       Traceback (most recent call last)",
      "\u001b[0;32m<ipython-input-1-caa8598960d1>\u001b[0m in \u001b[0;36m<module>\u001b[0;34m\u001b[0m\n\u001b[0;32m----> 1\u001b[0;31m \u001b[0;32mimport\u001b[0m \u001b[0mcv2\u001b[0m\u001b[0;34m\u001b[0m\u001b[0;34m\u001b[0m\u001b[0m\n\u001b[0m\u001b[1;32m      2\u001b[0m \u001b[0;32mimport\u001b[0m \u001b[0mos\u001b[0m\u001b[0;34m\u001b[0m\u001b[0;34m\u001b[0m\u001b[0m\n\u001b[1;32m      3\u001b[0m \u001b[0;32mfrom\u001b[0m \u001b[0mpathlib\u001b[0m \u001b[0;32mimport\u001b[0m \u001b[0mPath\u001b[0m\u001b[0;34m\u001b[0m\u001b[0;34m\u001b[0m\u001b[0m\n",
      "\u001b[0;31mModuleNotFoundError\u001b[0m: No module named 'cv2'"
     ]
    }
   ],
   "source": [
    "import cv2\n",
    "import os\n",
    "from pathlib import Path"
   ]
  },
  {
   "cell_type": "code",
   "execution_count": null,
   "metadata": {},
   "outputs": [],
   "source": [
    "def PagesDivider(RelativePathSource,OutputPath):\n",
    "    \"\"\"\n",
    "    To be runned, this function needs the cv2, os and pathlib.Path packages.\n",
    "    It is best used to divide a double-paged photography of a document into a single-paged one.\n",
    "    The separation between the two pages needs to be centred in order for this function results to be useable afterwards.\n",
    "    \"\"\"\n",
    "    \n",
    "    # On crée la liste des chemins de chaque fichiers contenus dans notre dossiers se terminant par l'extension .tif\n",
    "    pathlist = Path(RelativePathSource).glob('*tif')\n",
    "    \n",
    "    # On boucle dans cette liste :\n",
    "    for path in pathlist :\n",
    "        \n",
    "        # On convertit l'objet path en chaine de caractères :\n",
    "        path = str(path)\n",
    "        \n",
    "        # Du chemin, on extrait le nom du fichier avec l'extension puis sans l'extension.\n",
    "        file = os.path.basename(path)\n",
    "        fileName = os.path.splitext(file)[0]\n",
    "        \n",
    "        # On lit l'image.\n",
    "        im = cv2.imread(path)\n",
    "        \n",
    "        # On attribue les dimensions de l'image à des variables.\n",
    "        height, width, depth = im.shape\n",
    "        \n",
    "        # On pose une condition : si la largeur est plus grande que la hauteur :\n",
    "        if width > height :\n",
    "            \n",
    "            # On crée une variable qui équivaut à la moitié de la largeur.\n",
    "            widthcutoff = width // 2\n",
    "            \n",
    "            # On crée des images qui correspondent respectivement à la moitié gauche et droite de l'image et on les sauvegarde dans le fichier cible.\n",
    "            s1 = im[:, :widthcutoff]\n",
    "            cv2.imwrite(OutputPath + fileName + \"_left.jpeg\", s1)\n",
    "            s2 = im[:, widthcutoff:]\n",
    "            cv2.imwrite(OutputPath + fileName + \"_right.jpeg\", s2)"
   ]
  },
  {
   "cell_type": "code",
   "execution_count": null,
   "metadata": {},
   "outputs": [],
   "source": []
  },
  {
   "cell_type": "code",
   "execution_count": null,
   "metadata": {},
   "outputs": [],
   "source": [
    "PagesDivider('./../', './../traite/')"
   ]
  },
  {
   "cell_type": "code",
   "execution_count": null,
   "metadata": {},
   "outputs": [],
   "source": []
  }
 ],
 "metadata": {
  "kernelspec": {
   "display_name": "Python 3",
   "language": "python",
   "name": "python3"
  },
  "language_info": {
   "codemirror_mode": {
    "name": "ipython",
    "version": 3
   },
   "file_extension": ".py",
   "mimetype": "text/x-python",
   "name": "python",
   "nbconvert_exporter": "python",
   "pygments_lexer": "ipython3",
   "version": "3.8.3"
  }
 },
 "nbformat": 4,
 "nbformat_minor": 4
}
