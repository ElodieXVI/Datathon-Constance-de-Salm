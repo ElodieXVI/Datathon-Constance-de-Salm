{
 "cells": [
  {
   "cell_type": "markdown",
   "metadata": {
    "collapsed": true,
    "pycharm": {
     "name": "#%% md\n"
    }
   },
   "source": [
    "# Constance de Salm Geo-Data #\n",
    "Adding Geo-Data to the dataset of Constance de Salm."
   ]
  },
  {
   "cell_type": "code",
   "execution_count": 1,
   "outputs": [],
   "source": [
    "import pandas as pd\n",
    "import numpy as np\n",
    "import geocoder"
   ],
   "metadata": {
    "collapsed": false,
    "pycharm": {
     "name": "#%%\n"
    }
   }
  },
  {
   "cell_type": "markdown",
   "source": [
    "We import the data from the csv-File."
   ],
   "metadata": {
    "collapsed": false,
    "pycharm": {
     "name": "#%% md\n"
    }
   }
  },
  {
   "cell_type": "code",
   "execution_count": 2,
   "outputs": [],
   "source": [
    "df_cds = pd.read_csv(\"Donnees_Lettres/20211116_Constance_de_Salm_Korrespondenz_Inventar_Briefe.csv\",\n",
    "                     encoding='utf8',\n",
    "                     sep=';')"
   ],
   "metadata": {
    "collapsed": false,
    "pycharm": {
     "name": "#%%\n"
    }
   }
  },
  {
   "cell_type": "markdown",
   "source": [
    "To avoid downloading the geo-Data for all at once."
   ],
   "metadata": {
    "collapsed": false,
    "pycharm": {
     "name": "#%% md\n"
    }
   }
  },
  {
   "cell_type": "code",
   "execution_count": 3,
   "outputs": [
    {
     "data": {
      "text/plain": "          id        Geonames (Ausstellungsort)  \\\n0          0                               NaN   \n1          1  https://www.geonames.org/2980291   \n2          2  https://www.geonames.org/2894637   \n3          3  https://www.geonames.org/3031009   \n4          4                               NaN   \n...      ...                               ...   \n10720  10720  https://www.geonames.org/2894637   \n10721  10721                               NaN   \n10722  10722  https://www.geonames.org/2894637   \n10723  10723  https://www.geonames.org/2988507   \n10724  10724  https://www.geonames.org/2820919   \n\n                                         Geonames (Orte)  \n0                                                    NaN  \n1                                                    NaN  \n2                                                    NaN  \n3                                                    NaN  \n4                                                    NaN  \n...                                                  ...  \n10720  https://www.geonames.org/2972191; https://www....  \n10721  https://www.geonames.org/2989317; https://www....  \n10722                                                NaN  \n10723                                                NaN  \n10724                   https://www.geonames.org/2925533  \n\n[10725 rows x 3 columns]",
      "text/html": "<div>\n<style scoped>\n    .dataframe tbody tr th:only-of-type {\n        vertical-align: middle;\n    }\n\n    .dataframe tbody tr th {\n        vertical-align: top;\n    }\n\n    .dataframe thead th {\n        text-align: right;\n    }\n</style>\n<table border=\"1\" class=\"dataframe\">\n  <thead>\n    <tr style=\"text-align: right;\">\n      <th></th>\n      <th>id</th>\n      <th>Geonames (Ausstellungsort)</th>\n      <th>Geonames (Orte)</th>\n    </tr>\n  </thead>\n  <tbody>\n    <tr>\n      <th>0</th>\n      <td>0</td>\n      <td>NaN</td>\n      <td>NaN</td>\n    </tr>\n    <tr>\n      <th>1</th>\n      <td>1</td>\n      <td>https://www.geonames.org/2980291</td>\n      <td>NaN</td>\n    </tr>\n    <tr>\n      <th>2</th>\n      <td>2</td>\n      <td>https://www.geonames.org/2894637</td>\n      <td>NaN</td>\n    </tr>\n    <tr>\n      <th>3</th>\n      <td>3</td>\n      <td>https://www.geonames.org/3031009</td>\n      <td>NaN</td>\n    </tr>\n    <tr>\n      <th>4</th>\n      <td>4</td>\n      <td>NaN</td>\n      <td>NaN</td>\n    </tr>\n    <tr>\n      <th>...</th>\n      <td>...</td>\n      <td>...</td>\n      <td>...</td>\n    </tr>\n    <tr>\n      <th>10720</th>\n      <td>10720</td>\n      <td>https://www.geonames.org/2894637</td>\n      <td>https://www.geonames.org/2972191; https://www....</td>\n    </tr>\n    <tr>\n      <th>10721</th>\n      <td>10721</td>\n      <td>NaN</td>\n      <td>https://www.geonames.org/2989317; https://www....</td>\n    </tr>\n    <tr>\n      <th>10722</th>\n      <td>10722</td>\n      <td>https://www.geonames.org/2894637</td>\n      <td>NaN</td>\n    </tr>\n    <tr>\n      <th>10723</th>\n      <td>10723</td>\n      <td>https://www.geonames.org/2988507</td>\n      <td>NaN</td>\n    </tr>\n    <tr>\n      <th>10724</th>\n      <td>10724</td>\n      <td>https://www.geonames.org/2820919</td>\n      <td>https://www.geonames.org/2925533</td>\n    </tr>\n  </tbody>\n</table>\n<p>10725 rows × 3 columns</p>\n</div>"
     },
     "execution_count": 3,
     "metadata": {},
     "output_type": "execute_result"
    }
   ],
   "source": [
    "cols = ('id', 'Geonames (Ausstellungsort)', 'Geonames (Orte)')\n",
    "geo_data = []\n",
    "for i, v in df_cds.iterrows():\n",
    "    geo_data.append((i, v['Geonames (Ausstellungsort)'], v['Geonames (Orte)']))\n",
    "geo_data = pd.DataFrame(geo_data, columns=('id', 'Geonames (Ausstellungsort)', 'Geonames (Orte)'))\n",
    "geo_data"
   ],
   "metadata": {
    "collapsed": false,
    "pycharm": {
     "name": "#%%\n"
    }
   }
  },
  {
   "cell_type": "code",
   "execution_count": 4,
   "outputs": [
    {
     "name": "stderr",
     "output_type": "stream",
     "text": [
      "Error For input string: \"\" from JSON {'status': {'message': 'For input string: \"\"', 'value': 14}}\n"
     ]
    },
    {
     "data": {
      "text/plain": "                                  url      long       lat\n0    https://www.geonames.org/2990611   2.26965   48.8846\n1    https://www.geonames.org/2869894   6.44172  51.18539\n2    https://www.geonames.org/3205815   6.13364  51.11554\n3    https://www.geonames.org/3036784   2.78186  50.29301\n4    https://www.geonames.org/2782113  13.33333  47.33333\n..                                ...       ...       ...\n594  https://www.geonames.org/2898098   7.34471  51.14979\n595  https://www.geonames.org/2910831   9.73322  52.37052\n596  https://www.geonames.org/2918271  11.30678  50.52463\n597  https://www.geonames.org/2800438    5.6341   50.5828\n598  https://www.geonames.org/2748179   5.91545  51.97198\n\n[599 rows x 3 columns]",
      "text/html": "<div>\n<style scoped>\n    .dataframe tbody tr th:only-of-type {\n        vertical-align: middle;\n    }\n\n    .dataframe tbody tr th {\n        vertical-align: top;\n    }\n\n    .dataframe thead th {\n        text-align: right;\n    }\n</style>\n<table border=\"1\" class=\"dataframe\">\n  <thead>\n    <tr style=\"text-align: right;\">\n      <th></th>\n      <th>url</th>\n      <th>long</th>\n      <th>lat</th>\n    </tr>\n  </thead>\n  <tbody>\n    <tr>\n      <th>0</th>\n      <td>https://www.geonames.org/2990611</td>\n      <td>2.26965</td>\n      <td>48.8846</td>\n    </tr>\n    <tr>\n      <th>1</th>\n      <td>https://www.geonames.org/2869894</td>\n      <td>6.44172</td>\n      <td>51.18539</td>\n    </tr>\n    <tr>\n      <th>2</th>\n      <td>https://www.geonames.org/3205815</td>\n      <td>6.13364</td>\n      <td>51.11554</td>\n    </tr>\n    <tr>\n      <th>3</th>\n      <td>https://www.geonames.org/3036784</td>\n      <td>2.78186</td>\n      <td>50.29301</td>\n    </tr>\n    <tr>\n      <th>4</th>\n      <td>https://www.geonames.org/2782113</td>\n      <td>13.33333</td>\n      <td>47.33333</td>\n    </tr>\n    <tr>\n      <th>...</th>\n      <td>...</td>\n      <td>...</td>\n      <td>...</td>\n    </tr>\n    <tr>\n      <th>594</th>\n      <td>https://www.geonames.org/2898098</td>\n      <td>7.34471</td>\n      <td>51.14979</td>\n    </tr>\n    <tr>\n      <th>595</th>\n      <td>https://www.geonames.org/2910831</td>\n      <td>9.73322</td>\n      <td>52.37052</td>\n    </tr>\n    <tr>\n      <th>596</th>\n      <td>https://www.geonames.org/2918271</td>\n      <td>11.30678</td>\n      <td>50.52463</td>\n    </tr>\n    <tr>\n      <th>597</th>\n      <td>https://www.geonames.org/2800438</td>\n      <td>5.6341</td>\n      <td>50.5828</td>\n    </tr>\n    <tr>\n      <th>598</th>\n      <td>https://www.geonames.org/2748179</td>\n      <td>5.91545</td>\n      <td>51.97198</td>\n    </tr>\n  </tbody>\n</table>\n<p>599 rows × 3 columns</p>\n</div>"
     },
     "execution_count": 4,
     "metadata": {},
     "output_type": "execute_result"
    }
   ],
   "source": [
    "places = pd.DataFrame(columns=['url', 'long', 'lat'])\n",
    "urls = []\n",
    "for i, v in geo_data.iterrows():\n",
    "    try:\n",
    "        urls.append(v['Geonames (Ausstellungsort)'])\n",
    "    except TypeError:\n",
    "        True\n",
    "    try:\n",
    "        for j in v['Geonames (Orte)'].split('; '):\n",
    "            urls.append(j)\n",
    "    except TypeError:\n",
    "        True\n",
    "    except AttributeError:\n",
    "        True\n",
    "urls = set(urls)\n",
    "for u in urls:\n",
    "    if type(u) is str:\n",
    "        g = geocoder.geonames(u[25:], method='details', key='ELoe')\n",
    "        places = places.append({'url': u, 'long': g.lng, 'lat': g.lat}, ignore_index=True)\n",
    "places"
   ],
   "metadata": {
    "collapsed": false,
    "pycharm": {
     "name": "#%%\n"
    }
   }
  },
  {
   "cell_type": "code",
   "execution_count": 5,
   "outputs": [],
   "source": [
    "places.to_csv('Donnees_Lettres/CdS_Places.csv', encoding='utf8')"
   ],
   "metadata": {
    "collapsed": false,
    "pycharm": {
     "name": "#%%\n"
    }
   }
  }
 ],
 "metadata": {
  "kernelspec": {
   "display_name": "Python 3",
   "language": "python",
   "name": "python3"
  },
  "language_info": {
   "codemirror_mode": {
    "name": "ipython",
    "version": 2
   },
   "file_extension": ".py",
   "mimetype": "text/x-python",
   "name": "python",
   "nbconvert_exporter": "python",
   "pygments_lexer": "ipython2",
   "version": "2.7.6"
  }
 },
 "nbformat": 4,
 "nbformat_minor": 0
}